{
 "cells": [
  {
   "cell_type": "code",
   "execution_count": 1,
   "metadata": {
    "tags": []
   },
   "outputs": [],
   "source": [
    "import pandas as pd\n",
    "import numpy as np\n",
    "from tqdm import tqdm\n",
    "import os\n",
    "import sys\n",
    "import csv\n",
    "\n",
    "pd.set_option('display.max_columns', None)\n",
    "rootdir = os.path.join(os.path.abspath(''), 'Assignment2_Company_ETL')"
   ]
  },
  {
   "cell_type": "code",
   "execution_count": 2,
   "metadata": {
    "tags": []
   },
   "outputs": [
    {
     "name": "stderr",
     "output_type": "stream",
     "text": [
      "54it [01:48,  2.00s/it]\n"
     ]
    }
   ],
   "source": [
    "df_list = []\n",
    "for root, dirs, files in tqdm(os.walk(rootdir)):\n",
    "    for file in files:\n",
    "        if file.endswith('.xlsx'):\n",
    "            df = pd.read_excel(os.path.join(root, file), ignore_index=True)\n",
    "            df_list.append(df.reindex(sorted(df.columns), axis=1))"
   ]
  },
  {
   "cell_type": "code",
   "execution_count": 3,
   "metadata": {},
   "outputs": [],
   "source": [
    "data = pd.DataFrame(df_list)\n",
    "data_mths = data[0:35]\n",
    "data_yrs = data[35:38]\n",
    "data_mths = data_mths.reset_index(drop=True)\n",
    "data_yrs = data_yrs.reset_index(drop=True)\n",
    "data = data.reset_index(drop=True)"
   ]
  },
  {
   "cell_type": "code",
   "execution_count": 4,
   "metadata": {
    "tags": []
   },
   "outputs": [],
   "source": [
    "# check rows and columns of each file\n",
    "mths_dims = []\n",
    "for i in range(len(data_mths[0])):\n",
    "    mths_dims.append(data_mths[0][i].shape)\n",
    "yrs_dims = []\n",
    "for i in range(len(data_yrs[0])):\n",
    "    yrs_dims.append(data_yrs[0][i].shape)"
   ]
  },
  {
   "cell_type": "code",
   "execution_count": 5,
   "metadata": {},
   "outputs": [
    {
     "name": "stdout",
     "output_type": "stream",
     "text": [
      "6211\n",
      "6341\n"
     ]
    }
   ],
   "source": [
    "# check number of entries in total\n",
    "print(sum([i[0] for i in mths_dims]))\n",
    "print(sum([i[0] for i in yrs_dims]))"
   ]
  },
  {
   "cell_type": "code",
   "execution_count": 6,
   "metadata": {},
   "outputs": [
    {
     "data": {
      "text/plain": [
       "  Sailing DT                      datetime64[ns]\n",
       " Activity Feu                              int64\n",
       " Activity Teu                              int64\n",
       " Also Notify Name                        float64\n",
       " B/L No                                   object\n",
       " Booking Contact E-Mail                   object\n",
       " Booking Contact Phone Number            float64\n",
       " Booking No                               object\n",
       " CMDT                                     object\n",
       " CMDT Code                               float64\n",
       " Consignee                                object\n",
       " Consignee Address                        object\n",
       " Customs Description                      object\n",
       " DEL                                      object\n",
       " Export Name                              object\n",
       " FEU                                       int64\n",
       " Forward Name                             object\n",
       " Freight Term                             object\n",
       " MEA(CBM)                                float64\n",
       " Mty P/up CY                              object\n",
       " Notify Address                           object\n",
       " Notify Name                              object\n",
       " PKG                                       int64\n",
       " PKG Unit                                 object\n",
       " POD(Booking)                             object\n",
       " POL(Booking)                             object\n",
       " POR                                      object\n",
       " REP CMDT                                  int64\n",
       " REV.WEEK                                  int64\n",
       " SI Contact E-Mail                        object\n",
       " SI Contact Phone Number                 float64\n",
       " Shipper                                  object\n",
       " Shipper Address                          object\n",
       " TEU                                       int64\n",
       " Trunk POD                                object\n",
       " Trunk POL                                object\n",
       " Trunk VVD                                object\n",
       " Vessel Name                              object\n",
       " WGT(KGS)                                float64\n",
       "dtype: object"
      ]
     },
     "execution_count": 6,
     "metadata": {},
     "output_type": "execute_result"
    }
   ],
   "source": [
    "# check data types\n",
    "data[0][0].dtypes"
   ]
  },
  {
   "cell_type": "code",
   "execution_count": 7,
   "metadata": {},
   "outputs": [
    {
     "name": "stdout",
     "output_type": "stream",
     "text": [
      "DF column differences with first DF {' DEL EQ OFC', ' Forward Code ', ' ORG EQ OFC'} \n",
      "\n",
      "DF column differences with first DF {'  Trunk POD', ' Trunk POL', 'Export Name'} \n",
      "\n",
      "DF column differences with first DF {' DEL EQ OFC', ' Forward Code ', ' ORG EQ OFC'} \n",
      "\n",
      "DF column differences with first DF {'  Trunk POD', ' Trunk POL', 'Export Name'} \n",
      "\n",
      "DF column differences with first DF {'  Trunk POD', ' Trunk POL', 'Export Name'} \n",
      "\n",
      "DF column differences with first DF {'  Trunk POD', ' Trunk POL', 'Export Name'} \n",
      "\n",
      "DF column differences with first DF {'  Trunk POD', ' Trunk POL', 'Export Name'} \n",
      "\n",
      "DF column differences with first DF {'  Trunk POD', ' Trunk POL', 'Export Name'} \n",
      "\n",
      "DF column differences with first DF {'  Trunk POD', ' Trunk POL', 'Export Name'} \n",
      "\n",
      "DF column differences with first DF {'  Trunk POD', ' Trunk POL', 'Export Name'} \n",
      "\n",
      "DF column differences with first DF {'  Trunk POD', ' Trunk POL', 'Export Name'} \n",
      "\n",
      "DF column differences with first DF {'  Trunk POD', ' Trunk POL', 'Export Name'} \n",
      "\n",
      "DF column differences with first DF {'  Trunk POD', ' Trunk POL', 'Export Name'} \n",
      "\n"
     ]
    }
   ],
   "source": [
    "# identify where differences in columns are coming from\n",
    "dat1_cols = data[0][0].columns\n",
    "for i in range(len(data[0])):\n",
    "    set(data[0][i].columns) - set(data[0][0].columns)\n",
    "    if (sum(data[0][i].columns != dat1_cols) > 0):\n",
    "        a = set(data[0][i].columns) - set(data[0][0].columns)\n",
    "        print('DF column differences with first DF {} \\n'.format(str(a)))"
   ]
  },
  {
   "cell_type": "code",
   "execution_count": 8,
   "metadata": {},
   "outputs": [],
   "source": [
    "# merging data\n",
    "full_data = data[0][0]\n",
    "\n",
    "for i in range(1, len(data[0])):\n",
    "    full_data = full_data.append(data[0][i])"
   ]
  },
  {
   "cell_type": "code",
   "execution_count": 9,
   "metadata": {},
   "outputs": [
    {
     "data": {
      "text/plain": [
       "Index(['sailing_dt', 'activity_feu', 'activity_teu', 'also_notify_name',\n",
       "       'b/l_no', 'booking_contact_e-mail', 'booking_contact_phone_number',\n",
       "       'booking_no', 'cmdt', 'cmdt_code', 'consignee', 'consignee_address',\n",
       "       'customs_description', 'del', 'export_name', 'feu', 'forward_name',\n",
       "       'freight_term', 'mea(cbm)', 'mty_p/up_cy', 'notify_address',\n",
       "       'notify_name', 'pkg', 'pkg_unit', 'pod(booking)', 'pol(booking)', 'por',\n",
       "       'rep_cmdt', 'rev.week', 'si_contact_e-mail', 'si_contact_phone_number',\n",
       "       'shipper', 'shipper_address', 'teu', 'trunk_pod', 'trunk_pol',\n",
       "       'trunk_vvd', 'vessel_name', 'wgt(kgs)', 'del_eq_ofc', 'forward_code',\n",
       "       'org_eq_ofc', 'trunk_pod', 'trunk_pol', 'export_name'],\n",
       "      dtype='object')"
      ]
     },
     "execution_count": 9,
     "metadata": {},
     "output_type": "execute_result"
    }
   ],
   "source": [
    "# cleaning column names\n",
    "full_data.columns = full_data.columns.str.strip().str.lower().str.replace(\" \", \"_\")\n",
    "full_data.columns"
   ]
  },
  {
   "cell_type": "code",
   "execution_count": 10,
   "metadata": {},
   "outputs": [
    {
     "data": {
      "text/plain": [
       "2691"
      ]
     },
     "execution_count": 10,
     "metadata": {},
     "output_type": "execute_result"
    }
   ],
   "source": [
    "sum(full_data.duplicated())"
   ]
  },
  {
   "cell_type": "code",
   "execution_count": 12,
   "metadata": {},
   "outputs": [
    {
     "data": {
      "text/html": [
       "<div>\n",
       "<style scoped>\n",
       "    .dataframe tbody tr th:only-of-type {\n",
       "        vertical-align: middle;\n",
       "    }\n",
       "\n",
       "    .dataframe tbody tr th {\n",
       "        vertical-align: top;\n",
       "    }\n",
       "\n",
       "    .dataframe thead th {\n",
       "        text-align: right;\n",
       "    }\n",
       "</style>\n",
       "<table border=\"1\" class=\"dataframe\">\n",
       "  <thead>\n",
       "    <tr style=\"text-align: right;\">\n",
       "      <th></th>\n",
       "      <th>export_name</th>\n",
       "      <th>export_name</th>\n",
       "    </tr>\n",
       "  </thead>\n",
       "  <tbody>\n",
       "    <tr>\n",
       "      <th>0</th>\n",
       "      <td>1103110007382 / CPH31107163 / MIJO\\nFF SKAGEN A/S</td>\n",
       "      <td>NaN</td>\n",
       "    </tr>\n",
       "    <tr>\n",
       "      <th>1</th>\n",
       "      <td>NaN</td>\n",
       "      <td>NaN</td>\n",
       "    </tr>\n",
       "    <tr>\n",
       "      <th>2</th>\n",
       "      <td>NaN</td>\n",
       "      <td>NaN</td>\n",
       "    </tr>\n",
       "    <tr>\n",
       "      <th>3</th>\n",
       "      <td>NaN</td>\n",
       "      <td>NaN</td>\n",
       "    </tr>\n",
       "    <tr>\n",
       "      <th>4</th>\n",
       "      <td>NaN</td>\n",
       "      <td>NaN</td>\n",
       "    </tr>\n",
       "    <tr>\n",
       "      <th>...</th>\n",
       "      <td>...</td>\n",
       "      <td>...</td>\n",
       "    </tr>\n",
       "    <tr>\n",
       "      <th>801</th>\n",
       "      <td>NaN</td>\n",
       "      <td>NaN</td>\n",
       "    </tr>\n",
       "    <tr>\n",
       "      <th>802</th>\n",
       "      <td>NaN</td>\n",
       "      <td>NaN</td>\n",
       "    </tr>\n",
       "    <tr>\n",
       "      <th>803</th>\n",
       "      <td>NaN</td>\n",
       "      <td>NaN</td>\n",
       "    </tr>\n",
       "    <tr>\n",
       "      <th>804</th>\n",
       "      <td>NaN</td>\n",
       "      <td>NaN</td>\n",
       "    </tr>\n",
       "    <tr>\n",
       "      <th>805</th>\n",
       "      <td>NaN</td>\n",
       "      <td>NaN</td>\n",
       "    </tr>\n",
       "  </tbody>\n",
       "</table>\n",
       "<p>12552 rows × 2 columns</p>\n",
       "</div>"
      ],
      "text/plain": [
       "                                           export_name  export_name\n",
       "0    1103110007382 / CPH31107163 / MIJO\\nFF SKAGEN A/S          NaN\n",
       "1                                                  NaN          NaN\n",
       "2                                                  NaN          NaN\n",
       "3                                                  NaN          NaN\n",
       "4                                                  NaN          NaN\n",
       "..                                                 ...          ...\n",
       "801                                                NaN          NaN\n",
       "802                                                NaN          NaN\n",
       "803                                                NaN          NaN\n",
       "804                                                NaN          NaN\n",
       "805                                                NaN          NaN\n",
       "\n",
       "[12552 rows x 2 columns]"
      ]
     },
     "execution_count": 12,
     "metadata": {},
     "output_type": "execute_result"
    }
   ],
   "source": [
    "full_data['export_name']"
   ]
  },
  {
   "cell_type": "code",
   "execution_count": 26,
   "metadata": {},
   "outputs": [
    {
     "name": "stdout",
     "output_type": "stream",
     "text": [
      "Column 'sailing_dt' of type datetime64[ns] with shape (12552,) has 1505 unique values.\n",
      "Column 'activity_feu' of type int64 with shape (12552,) has 74 unique values.\n",
      "Column 'activity_teu' of type int64 with shape (12552,) has 66 unique values.\n",
      "Column 'also_notify_name' of type object with shape (12552,) has 397 unique values.\n",
      "Column 'b/l_no' of type object with shape (12552,) has 5313 unique values.\n",
      "Column 'booking_contact_e-mail' of type object with shape (12552,) has 336 unique values.\n",
      "Column 'booking_contact_phone_number' of type object with shape (12552,) has 351 unique values.\n",
      "Column 'booking_no' of type object with shape (12552,) has 4891 unique values.\n",
      "Column 'cmdt' of type object with shape (12552,) has 478 unique values.\n",
      "Column 'cmdt_code' of type float64 with shape (12552,) has 481 unique values.\n",
      "Column 'consignee' of type object with shape (12552,) has 1736 unique values.\n",
      "Column 'consignee_address' of type object with shape (12552,) has 2120 unique values.\n",
      "Column 'customs_description' of type object with shape (12552,) has 1458 unique values.\n",
      "Column 'del' of type object with shape (12552,) has 167 unique values.\n",
      "Column 'export_name' of type dataframe with shape (12552, 2) has 470 unique values.\n",
      "Column 'feu' of type float64 with shape (12552,) has 84 unique values.\n",
      "Column 'forward_name' of type object with shape (12552,) has 779 unique values.\n",
      "Column 'freight_term' of type object with shape (12552,) has 2 unique values.\n",
      "Column 'mea(cbm)' of type float64 with shape (12552,) has 385 unique values.\n",
      "Column 'mty_p/up_cy' of type object with shape (12552,) has 13 unique values.\n",
      "Column 'notify_address' of type object with shape (12552,) has 2493 unique values.\n",
      "Column 'notify_name' of type object with shape (12552,) has 1938 unique values.\n",
      "Column 'pkg' of type int64 with shape (12552,) has 1375 unique values.\n",
      "Column 'pkg_unit' of type object with shape (12552,) has 35 unique values.\n",
      "Column 'pod(booking)' of type object with shape (12552,) has 135 unique values.\n",
      "Column 'pol(booking)' of type object with shape (12552,) has 7 unique values.\n",
      "Column 'por' of type object with shape (12552,) has 8 unique values.\n",
      "Column 'rep_cmdt' of type int64 with shape (12552,) has 90 unique values.\n",
      "Column 'rev.week' of type float64 with shape (12552,) has 54 unique values.\n",
      "Column 'si_contact_e-mail' of type object with shape (12552,) has 330 unique values.\n",
      "Column 'si_contact_phone_number' of type object with shape (12552,) has 584 unique values.\n",
      "Column 'shipper' of type object with shape (12552,) has 1517 unique values.\n",
      "Column 'shipper_address' of type object with shape (12552,) has 2027 unique values.\n",
      "Column 'teu' of type float64 with shape (12552,) has 69 unique values.\n",
      "Column 'trunk_pod' of type dataframe with shape (12552, 2) has 96 unique values.\n",
      "Column 'trunk_pol' of type dataframe with shape (12552, 2) has 11 unique values.\n",
      "Column 'trunk_vvd' of type object with shape (12552,) has 228 unique values.\n",
      "Column 'vessel_name' of type object with shape (12552,) has 31 unique values.\n",
      "Column 'wgt(kgs)' of type float64 with shape (12552,) has 2863 unique values.\n",
      "Column 'del_eq_ofc' of type object with shape (12552,) has 36 unique values.\n",
      "Column 'forward_code' of type object with shape (12552,) has 9 unique values.\n",
      "Column 'org_eq_ofc' of type object with shape (12552,) has 2 unique values.\n",
      "Column 'trunk_pod' of type dataframe with shape (12552, 2) has 96 unique values.\n",
      "Column 'trunk_pol' of type dataframe with shape (12552, 2) has 11 unique values.\n",
      "Column 'export_name' of type dataframe with shape (12552, 2) has 470 unique values.\n"
     ]
    }
   ],
   "source": [
    "col_unique_vals = []\n",
    "for i in full_data.columns:\n",
    "    if isinstance(full_data[i], pd.DataFrame):\n",
    "        dt = 'dataframe'\n",
    "        nu = sum(full_data[i].nunique())\n",
    "    else :\n",
    "        dt = full_data[i].dtypes\n",
    "        nu = full_data[i].nunique()\n",
    "    ds = full_data[i].shape\n",
    "    col_unique_vals.append((i, nu))\n",
    "    print(\"Column \\'{}\\' of type {} with shape {} has {} unique values.\".format(i, dt, ds, nu))"
   ]
  },
  {
   "cell_type": "code",
   "execution_count": 34,
   "metadata": {},
   "outputs": [
    {
     "data": {
      "text/plain": [
       "5313"
      ]
     },
     "execution_count": 34,
     "metadata": {},
     "output_type": "execute_result"
    }
   ],
   "source": [
    "max_nu = max([i[1] for i in col_unique_vals])\n",
    "max_nu"
   ]
  }
 ],
 "metadata": {
  "kernelspec": {
   "display_name": "Python 3",
   "language": "python",
   "name": "python3"
  },
  "language_info": {
   "codemirror_mode": {
    "name": "ipython",
    "version": 3
   },
   "file_extension": ".py",
   "mimetype": "text/x-python",
   "name": "python",
   "nbconvert_exporter": "python",
   "pygments_lexer": "ipython3",
   "version": "3.7.6"
  }
 },
 "nbformat": 4,
 "nbformat_minor": 4
}
